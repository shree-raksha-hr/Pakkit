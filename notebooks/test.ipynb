{
 "cells": [
  {
   "cell_type": "code",
   "execution_count": 8,
   "metadata": {},
   "outputs": [
    {
     "data": {
      "text/html": [
       "<div>\n",
       "<style scoped>\n",
       "    .dataframe tbody tr th:only-of-type {\n",
       "        vertical-align: middle;\n",
       "    }\n",
       "\n",
       "    .dataframe tbody tr th {\n",
       "        vertical-align: top;\n",
       "    }\n",
       "\n",
       "    .dataframe thead th {\n",
       "        text-align: right;\n",
       "    }\n",
       "</style>\n",
       "<table border=\"1\" class=\"dataframe\">\n",
       "  <thead>\n",
       "    <tr style=\"text-align: right;\">\n",
       "      <th></th>\n",
       "      <th>src_port</th>\n",
       "      <th>dst_port</th>\n",
       "      <th>proto</th>\n",
       "      <th>pktTotalCount</th>\n",
       "      <th>octetTotalCount</th>\n",
       "      <th>avg_ps</th>\n",
       "      <th>std_dev_ps</th>\n",
       "      <th>flowDuration</th>\n",
       "      <th>avg_piat</th>\n",
       "      <th>std_dev_piat</th>\n",
       "    </tr>\n",
       "  </thead>\n",
       "  <tbody>\n",
       "    <tr>\n",
       "      <th>0</th>\n",
       "      <td>443</td>\n",
       "      <td>46608</td>\n",
       "      <td>17</td>\n",
       "      <td>80</td>\n",
       "      <td>15021</td>\n",
       "      <td>187.762500</td>\n",
       "      <td>180.210311</td>\n",
       "      <td>27.777353</td>\n",
       "      <td>0.351612</td>\n",
       "      <td>0.861164</td>\n",
       "    </tr>\n",
       "    <tr>\n",
       "      <th>1</th>\n",
       "      <td>443</td>\n",
       "      <td>45100</td>\n",
       "      <td>17</td>\n",
       "      <td>77</td>\n",
       "      <td>54999</td>\n",
       "      <td>714.272727</td>\n",
       "      <td>563.823004</td>\n",
       "      <td>0.775274</td>\n",
       "      <td>0.010201</td>\n",
       "      <td>0.042494</td>\n",
       "    </tr>\n",
       "    <tr>\n",
       "      <th>2</th>\n",
       "      <td>53</td>\n",
       "      <td>52741</td>\n",
       "      <td>17</td>\n",
       "      <td>2</td>\n",
       "      <td>188</td>\n",
       "      <td>94.000000</td>\n",
       "      <td>8.000000</td>\n",
       "      <td>0.027886</td>\n",
       "      <td>0.027886</td>\n",
       "      <td>0.000000</td>\n",
       "    </tr>\n",
       "    <tr>\n",
       "      <th>3</th>\n",
       "      <td>53</td>\n",
       "      <td>54016</td>\n",
       "      <td>17</td>\n",
       "      <td>2</td>\n",
       "      <td>230</td>\n",
       "      <td>115.000000</td>\n",
       "      <td>25.000000</td>\n",
       "      <td>0.034452</td>\n",
       "      <td>0.034452</td>\n",
       "      <td>0.000000</td>\n",
       "    </tr>\n",
       "    <tr>\n",
       "      <th>4</th>\n",
       "      <td>443</td>\n",
       "      <td>35771</td>\n",
       "      <td>17</td>\n",
       "      <td>35</td>\n",
       "      <td>16843</td>\n",
       "      <td>481.228571</td>\n",
       "      <td>528.977617</td>\n",
       "      <td>0.350865</td>\n",
       "      <td>0.010320</td>\n",
       "      <td>0.016616</td>\n",
       "    </tr>\n",
       "  </tbody>\n",
       "</table>\n",
       "</div>"
      ],
      "text/plain": [
       "   src_port  dst_port  proto  pktTotalCount  octetTotalCount      avg_ps  \\\n",
       "0       443     46608     17             80            15021  187.762500   \n",
       "1       443     45100     17             77            54999  714.272727   \n",
       "2        53     52741     17              2              188   94.000000   \n",
       "3        53     54016     17              2              230  115.000000   \n",
       "4       443     35771     17             35            16843  481.228571   \n",
       "\n",
       "   std_dev_ps  flowDuration  avg_piat  std_dev_piat  \n",
       "0  180.210311     27.777353  0.351612      0.861164  \n",
       "1  563.823004      0.775274  0.010201      0.042494  \n",
       "2    8.000000      0.027886  0.027886      0.000000  \n",
       "3   25.000000      0.034452  0.034452      0.000000  \n",
       "4  528.977617      0.350865  0.010320      0.016616  "
      ]
     },
     "execution_count": 8,
     "metadata": {},
     "output_type": "execute_result"
    }
   ],
   "source": [
    "import pandas as pd\n",
    "\n",
    "df = pd.read_csv(\"/home/raksha/Desktop/Pakkit-project/data/processed/classifer.csv\")\n",
    "df.head()"
   ]
  },
  {
   "cell_type": "code",
   "execution_count": 9,
   "metadata": {},
   "outputs": [
    {
     "data": {
      "text/plain": [
       "pktTotalCount\n",
       "2       17\n",
       "3        4\n",
       "6        2\n",
       "77       1\n",
       "80       1\n",
       "35       1\n",
       "31       1\n",
       "586      1\n",
       "20       1\n",
       "28       1\n",
       "17       1\n",
       "21       1\n",
       "211      1\n",
       "29       1\n",
       "1765     1\n",
       "8        1\n",
       "15       1\n",
       "43       1\n",
       "7        1\n",
       "Name: count, dtype: int64"
      ]
     },
     "execution_count": 9,
     "metadata": {},
     "output_type": "execute_result"
    }
   ],
   "source": [
    "df.pktTotalCount.value_counts()"
   ]
  },
  {
   "cell_type": "code",
   "execution_count": null,
   "metadata": {},
   "outputs": [],
   "source": []
  }
 ],
 "metadata": {
  "kernelspec": {
   "display_name": "Python 3",
   "language": "python",
   "name": "python3"
  },
  "language_info": {
   "codemirror_mode": {
    "name": "ipython",
    "version": 3
   },
   "file_extension": ".py",
   "mimetype": "text/x-python",
   "name": "python",
   "nbconvert_exporter": "python",
   "pygments_lexer": "ipython3",
   "version": "3.10.12"
  }
 },
 "nbformat": 4,
 "nbformat_minor": 2
}
